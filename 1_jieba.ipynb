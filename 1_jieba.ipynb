{
  "nbformat": 4,
  "nbformat_minor": 0,
  "metadata": {
    "colab": {
      "provenance": [],
      "authorship_tag": "ABX9TyPWriVqXqC0B7zKLzamsiOi",
      "include_colab_link": true
    },
    "kernelspec": {
      "name": "python3",
      "display_name": "Python 3"
    },
    "language_info": {
      "name": "python"
    }
  },
  "cells": [
    {
      "cell_type": "markdown",
      "metadata": {
        "id": "view-in-github",
        "colab_type": "text"
      },
      "source": [
        "<a href=\"https://colab.research.google.com/github/Elwing-Chou/nanshan1115/blob/main/1_jieba.ipynb\" target=\"_parent\"><img src=\"https://colab.research.google.com/assets/colab-badge.svg\" alt=\"Open In Colab\"/></a>"
      ]
    },
    {
      "cell_type": "code",
      "execution_count": null,
      "metadata": {
        "id": "Ozdo5OGVrQDI"
      },
      "outputs": [],
      "source": [
        "!pip install jieba"
      ]
    },
    {
      "cell_type": "code",
      "source": [
        "s = \"\"\"APEC峰會（亞太經濟合作組織會議）於美國時間11月11日揭幕，習近平赴美除了參與峰會之外，最受關注的必然是15日的「拜習會」；針對中美元首會晤可能討論的話題，遼寧大學美國與東亞研究院院長呂超向香港中通社表示，可能會針對「經貿合作」、「安全利益」甚至是「台海和平問題」有深入交流。\n",
        "值得一提的是，這也是中美元首於去（2022）年印尼G20峰會後首度會晤。\"\"\""
      ],
      "metadata": {
        "id": "3VmDVE3KxPBP"
      },
      "execution_count": 2,
      "outputs": []
    },
    {
      "cell_type": "code",
      "source": [
        "import urllib.request as req\n",
        "url = \"https://github.com/fxsjy/jieba/raw/master/extra_dict/dict.txt.big\"\n",
        "req.urlretrieve(url, \"dict.big\")"
      ],
      "metadata": {
        "colab": {
          "base_uri": "https://localhost:8080/"
        },
        "id": "8VpMxvgP1jDH",
        "outputId": "e41e6b62-e663-4256-ecbb-a540dcd6b769"
      },
      "execution_count": 6,
      "outputs": [
        {
          "output_type": "execute_result",
          "data": {
            "text/plain": [
              "('dict.big', <http.client.HTTPMessage at 0x7d5c7db09de0>)"
            ]
          },
          "metadata": {},
          "execution_count": 6
        }
      ]
    },
    {
      "cell_type": "code",
      "source": [
        "import jieba\n",
        "\n",
        "jieba.set_dictionary(\"dict.big\")\n",
        "c = jieba.cut(s)\n",
        "\" \".join(c)"
      ],
      "metadata": {
        "id": "mivG8-PAxh2q"
      },
      "execution_count": null,
      "outputs": []
    },
    {
      "cell_type": "code",
      "source": [
        "import jieba.analyse\n",
        "\n",
        "jieba.analyse.extract_tags(s)\n",
        "jieba.analyse.extract_tags(s, allowPOS=[\"nr\", \"ns\", \"nt\"])"
      ],
      "metadata": {
        "colab": {
          "base_uri": "https://localhost:8080/"
        },
        "id": "ChLXkLXV54j3",
        "outputId": "4926f69f-ad77-4223-d5d3-a36d9c3d5038"
      },
      "execution_count": 11,
      "outputs": [
        {
          "output_type": "execute_result",
          "data": {
            "text/plain": [
              "['美國', '亞太經濟合作組織', '遼寧大學', '東亞', '呂超', '中通社', '台海', '印尼', '香港']"
            ]
          },
          "metadata": {},
          "execution_count": 11
        }
      ]
    }
  ]
}