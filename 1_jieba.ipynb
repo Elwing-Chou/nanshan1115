{
  "nbformat": 4,
  "nbformat_minor": 0,
  "metadata": {
    "colab": {
      "provenance": [],
      "authorship_tag": "ABX9TyNaa7jXewBMhKS6jAYELejM",
      "include_colab_link": true
    },
    "kernelspec": {
      "name": "python3",
      "display_name": "Python 3"
    },
    "language_info": {
      "name": "python"
    }
  },
  "cells": [
    {
      "cell_type": "markdown",
      "metadata": {
        "id": "view-in-github",
        "colab_type": "text"
      },
      "source": [
        "<a href=\"https://colab.research.google.com/github/Elwing-Chou/nanshan1115/blob/main/1_jieba.ipynb\" target=\"_parent\"><img src=\"https://colab.research.google.com/assets/colab-badge.svg\" alt=\"Open In Colab\"/></a>"
      ]
    },
    {
      "cell_type": "code",
      "execution_count": null,
      "metadata": {
        "id": "Ozdo5OGVrQDI"
      },
      "outputs": [],
      "source": [
        "!pip install jieba"
      ]
    },
    {
      "cell_type": "code",
      "source": [
        "s = \"\"\"APEC峰會（亞太經濟合作組織會議）於美國時間11月11日揭幕，習近平赴美除了參與峰會之外，最受關注的必然是15日的「拜習會」；針對中美元首會晤可能討論的話題，遼寧大學美國與東亞研究院院長呂超向香港中通社表示，可能會針對「經貿合作」、「安全利益」甚至是「台海和平問題」有深入交流。\n",
        "值得一提的是，這也是中美元首於去（2022）年印尼G20峰會後首度會晤。\"\"\""
      ],
      "metadata": {
        "id": "3VmDVE3KxPBP"
      },
      "execution_count": 2,
      "outputs": []
    },
    {
      "cell_type": "code",
      "source": [
        "import urllib.request as req\n",
        "url = \"https://github.com/fxsjy/jieba/raw/master/extra_dict/dict.txt.big\"\n",
        "req.urlretrieve(url, \"dict.big\")"
      ],
      "metadata": {
        "colab": {
          "base_uri": "https://localhost:8080/"
        },
        "id": "8VpMxvgP1jDH",
        "outputId": "e41e6b62-e663-4256-ecbb-a540dcd6b769"
      },
      "execution_count": 6,
      "outputs": [
        {
          "output_type": "execute_result",
          "data": {
            "text/plain": [
              "('dict.big', <http.client.HTTPMessage at 0x7d5c7db09de0>)"
            ]
          },
          "metadata": {},
          "execution_count": 6
        }
      ]
    },
    {
      "cell_type": "code",
      "source": [
        "import jieba\n",
        "jieba.set_dictionary(\"dict.big\")\n",
        "c = jieba.cut(s)\n",
        "\" \".join(c)"
      ],
      "metadata": {
        "colab": {
          "base_uri": "https://localhost:8080/",
          "height": 232
        },
        "id": "mivG8-PAxh2q",
        "outputId": "36cb54dd-db07-476b-f4b3-c01b21a3965e"
      },
      "execution_count": 7,
      "outputs": [
        {
          "output_type": "stream",
          "name": "stderr",
          "text": [
            "Building prefix dict from /content/dict.big ...\n",
            "DEBUG:jieba:Building prefix dict from /content/dict.big ...\n",
            "Dumping model to file cache /tmp/jieba.u07306b11e64fa1786267fcd71f361dde.cache\n",
            "DEBUG:jieba:Dumping model to file cache /tmp/jieba.u07306b11e64fa1786267fcd71f361dde.cache\n",
            "Loading model cost 1.600 seconds.\n",
            "DEBUG:jieba:Loading model cost 1.600 seconds.\n",
            "Prefix dict has been built successfully.\n",
            "DEBUG:jieba:Prefix dict has been built successfully.\n"
          ]
        },
        {
          "output_type": "execute_result",
          "data": {
            "text/plain": [
              "'APEC 峰會 （ 亞太經濟合作組織 會議 ） 於 美國 時間 11 月 11 日 揭幕 ， 習近平 赴美 除了 參與 峰會 之外 ， 最受 關注 的 必然 是 15 日 的 「 拜習 會 」 ； 針對 中 美元 首 會晤 可能 討論 的 話題 ， 遼寧大學 美國 與 東亞 研究院 院長 呂超 向 香港 中通社 表示 ， 可能 會 針對 「 經貿合作 」 、 「 安全 利益 」 甚至 是 「 台海 和平 問題 」 有 深入 交流 。 \\n 值得一提的是 ， 這也 是 中 美元 首 於 去 （ 2022 ） 年 印尼 G20 峰 會後 首度 會晤 。'"
            ],
            "application/vnd.google.colaboratory.intrinsic+json": {
              "type": "string"
            }
          },
          "metadata": {},
          "execution_count": 7
        }
      ]
    }
  ]
}